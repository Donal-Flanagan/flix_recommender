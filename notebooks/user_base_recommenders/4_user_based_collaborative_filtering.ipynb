{
 "cells": [
  {
   "cell_type": "code",
   "execution_count": 2,
   "id": "b631dba4-85c9-44a8-8a40-9e6053c5fab9",
   "metadata": {},
   "outputs": [],
   "source": [
    "import pandas as pd\n",
    "import numpy as np\n",
    "import matplotlib.pyplot as plt\n",
    "from surprise import Reader, Dataset, KNNBasic, accuracy, SVD\n",
    "from surprise.model_selection import train_test_split, cross_validate"
   ]
  },
  {
   "cell_type": "markdown",
   "id": "8e1ff825-b191-4c24-b48f-a4c1c5153838",
   "metadata": {},
   "source": [
    "# Data import"
   ]
  },
  {
   "cell_type": "markdown",
   "id": "81a64791-de2f-4f05-9c48-d1fad91af776",
   "metadata": {},
   "source": [
    "Let's load the data and turn it into a Surprise dataset."
   ]
  },
  {
   "cell_type": "code",
   "execution_count": 33,
   "id": "f90bb364-832d-4e76-a1d7-2dc7c25b43b9",
   "metadata": {},
   "outputs": [],
   "source": [
    "ratings_df = pd.read_csv('../data/ratings.csv')\n",
    "reader = Reader(rating_scale=(0.5, 5.0))\n",
    "ratings_data = Dataset.load_from_df(ratings_df[['userId', 'movieId', 'rating']], reader)"
   ]
  },
  {
   "cell_type": "markdown",
   "id": "f7e35786-8211-4977-b051-7c7611b21192",
   "metadata": {},
   "source": [
    "# User-based filtering collaborative filtering\n",
    "\n",
    "We find other users similar to the user we’re recommending movies to. Then we recommend the movies those other users rated highly.\n",
    "<br>\n",
    "Two users will be declared similar if they gave a high (or low) rating to the same movies.\n",
    "\n",
    "User A loves Fight Club and The Shawshank Redemption and dislikes Love Actually.\n",
    "<br>\n",
    "User B loves Fight Club, The Shawshank Redemption, and Taken, and dislikes Love Actually.\n",
    "<br>\n",
    "The presumption in this methodology is that Taken would be a good recommendation for User A because User A is similar to User B."
   ]
  },
  {
   "cell_type": "code",
   "execution_count": 34,
   "id": "3256c0fe-a5eb-4bdf-9711-304a43a6b8e9",
   "metadata": {},
   "outputs": [
    {
     "name": "stdout",
     "output_type": "stream",
     "text": [
      "Evaluating RMSE, MAE of algorithm SVD on 5 split(s).\n",
      "\n",
      "                  Fold 1  Fold 2  Fold 3  Fold 4  Fold 5  Mean    Std     \n",
      "RMSE (testset)    0.9364  0.9362  0.9364  0.9296  0.9414  0.9360  0.0037  \n",
      "MAE (testset)     0.7385  0.7380  0.7373  0.7364  0.7400  0.7380  0.0012  \n",
      "Fit time          1.34    1.40    1.42    1.19    1.09    1.29    0.13    \n",
      "Test time         0.12    0.12    0.09    0.29    0.14    0.15    0.07    \n"
     ]
    },
    {
     "data": {
      "text/plain": [
       "{'test_rmse': array([0.9364336 , 0.93616555, 0.93635132, 0.92964299, 0.94135114]),\n",
       " 'test_mae': array([0.73847635, 0.73800296, 0.73731092, 0.73635749, 0.73998569]),\n",
       " 'fit_time': (1.3366584777832031,\n",
       "  1.3972141742706299,\n",
       "  1.4164986610412598,\n",
       "  1.1855974197387695,\n",
       "  1.0927915573120117),\n",
       " 'test_time': (0.11921834945678711,\n",
       "  0.12064456939697266,\n",
       "  0.09275579452514648,\n",
       "  0.28733110427856445,\n",
       "  0.14100337028503418)}"
      ]
     },
     "execution_count": 34,
     "metadata": {},
     "output_type": "execute_result"
    }
   ],
   "source": [
    "# Use the SVD algorithm.\n",
    "algo = SVD()\n",
    "\n",
    "# Run 5-fold cross-validation and print results.\n",
    "cross_validate(algo, data, measures=['RMSE', 'MAE'], cv=5, verbose=True)"
   ]
  },
  {
   "cell_type": "code",
   "execution_count": null,
   "id": "c5d160f6-5631-421d-a34f-a80cf8668a22",
   "metadata": {},
   "outputs": [],
   "source": []
  }
 ],
 "metadata": {
  "kernelspec": {
   "display_name": "Python 3 (ipykernel)",
   "language": "python",
   "name": "python3"
  },
  "language_info": {
   "codemirror_mode": {
    "name": "ipython",
    "version": 3
   },
   "file_extension": ".py",
   "mimetype": "text/x-python",
   "name": "python",
   "nbconvert_exporter": "python",
   "pygments_lexer": "ipython3",
   "version": "3.12.7"
  }
 },
 "nbformat": 4,
 "nbformat_minor": 5
}
