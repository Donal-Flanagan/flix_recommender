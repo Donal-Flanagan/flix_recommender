{
 "cells": [
  {
   "cell_type": "code",
   "execution_count": null,
   "id": "e86a8a94-e5d6-420b-a385-7dfc3e69e67c",
   "metadata": {},
   "outputs": [],
   "source": [
    "import os\n",
    "import requests\n",
    "import zipfile\n",
    "import pandas as pd\n",
    "import numpy as np\n",
    "from bs4 import BeautifulSoup\n",
    "from pprint import pprint as pp"
   ]
  },
  {
   "cell_type": "code",
   "execution_count": null,
   "id": "3cdedf1c-c740-40ea-8da6-bc7aa72e2a8e",
   "metadata": {},
   "outputs": [],
   "source": [
    "# Import data from MovieLens"
   ]
  },
  {
   "cell_type": "code",
   "execution_count": null,
   "id": "33e51dc2-0c7f-4811-a243-5c3aaae4a1b7",
   "metadata": {},
   "outputs": [],
   "source": [
    "url = \"http://files.grouplens.org/datasets/movielens/ml-latest-small.zip\"\n",
    "\n",
    "# Create the 'data' directory if it doesn't exist\n",
    "data_dir = '../data'\n",
    "os.makedirs(data_dir, exist_ok=True)\n",
    "\n",
    "# Save the ZIP file inside the 'data' directory\n",
    "zip_path = os.path.join(data_dir, 'ml-latest-small.zip')\n",
    "\n",
    "# Get the data\n",
    "response = requests.get(url, stream=True)\n",
    "\n",
    "# Save the data\n",
    "with open(zip_path, 'wb') as file:\n",
    "    for chunk in response.iter_content(chunk_size=1024):\n",
    "        if chunk:\n",
    "            file.write(chunk)\n",
    "\n",
    "# Extract the ZIP file within the 'data' directory\n",
    "with zipfile.ZipFile(zip_path, 'r') as zip_ref:\n",
    "    # zip_ref.extractall()\n",
    "    for member in zip_ref.namelist():\n",
    "        target_path = os.path.join(data_dir, member)\n",
    "        zip_ref.extract(member, path=data_dir)\n",
    "\n",
    "print(f\"Dataset downloaded and extracted to: {data_dir}\")"
   ]
  },
  {
   "cell_type": "code",
   "execution_count": null,
   "id": "d040d8ee-8132-4d74-b85c-cf7083101899",
   "metadata": {},
   "outputs": [],
   "source": [
    "## Check the links data"
   ]
  },
  {
   "cell_type": "code",
   "execution_count": null,
   "id": "92288167-b28d-4ae7-abc9-22ca9bce0f28",
   "metadata": {},
   "outputs": [],
   "source": [
    "links_df = pd.read_csv(\n",
    "    '../data/ml-latest-small/links.csv', \n",
    "    usecols=['movieId', 'imdbId', 'tmdbId'],\n",
    "    dtype={'movieId': int, 'imdbId': str, 'tmdbId': str}\n",
    ")\n",
    "links_df"
   ]
  },
  {
   "cell_type": "code",
   "execution_count": null,
   "id": "c4e85dbb-daf0-4872-83c9-e4fb9a70187d",
   "metadata": {},
   "outputs": [],
   "source": [
    "\"\"\"\n",
    "When I initially loaded the imdbId values as ints, some had only 6 digits and were missing\n",
    "a preceding 0 which caused them to no correspond to the correct IMDB url. When loaded as \n",
    "strings, they appear to have the preceding 0s but we need to check this.\n",
    "\"\"\"\n",
    "\n",
    "# Check for imdbIds of the wrong length.\n",
    "links_df[links_df.imdbId.apply(lambda x:len(x)!=7)]"
   ]
  },
  {
   "cell_type": "code",
   "execution_count": null,
   "id": "c8f0c864-a24d-4dbb-b7b8-f46452147ef6",
   "metadata": {},
   "outputs": [],
   "source": [
    "# Check for NaN vals\n",
    "print(links_df.isna().sum()) "
   ]
  },
  {
   "cell_type": "code",
   "execution_count": null,
   "id": "c937f24b-20a3-4a5e-90c2-4f8f839cb280",
   "metadata": {},
   "outputs": [],
   "source": [
    "''' \n",
    "We need to make sure these movieIds are filtered out of the other datasets because we are training\n",
    "the Matrix Factorization model on the tmdb data (see web-scraping section below) and we need all the models to be working on the same data.\n",
    "'''\n",
    "\n",
    "links_df[links_df.isna().tmdbId==True]"
   ]
  },
  {
   "cell_type": "code",
   "execution_count": null,
   "id": "69c75765-f829-40f6-9aa4-b566fd24681e",
   "metadata": {},
   "outputs": [],
   "source": [
    "## Filter out movies with missing tmdbIds"
   ]
  },
  {
   "cell_type": "code",
   "execution_count": null,
   "id": "1c2537b5-083e-4f64-96f3-de68c2d05147",
   "metadata": {},
   "outputs": [],
   "source": [
    "### movies.csv"
   ]
  },
  {
   "cell_type": "code",
   "execution_count": null,
   "id": "13e8d6f3-5d8d-4280-8139-7b6d4c1754d9",
   "metadata": {},
   "outputs": [],
   "source": [
    "movies_missing_tmdbIds = links_df[links_df.isna().tmdbId==True]\n",
    "\n",
    "movies_df = pd.read_csv('../data/ml-latest-small/movies.csv')\n",
    "movies_df.head()"
   ]
  },
  {
   "cell_type": "code",
   "execution_count": null,
   "id": "6229d548-e317-4703-b763-ec4d2b9b83f1",
   "metadata": {},
   "outputs": [],
   "source": [
    "movies_df.shape"
   ]
  },
  {
   "cell_type": "code",
   "execution_count": null,
   "id": "99a779d8-f4a3-445a-99d6-d5a0b85931ff",
   "metadata": {},
   "outputs": [],
   "source": [
    "\"\"\" These don't look like popular movies anyway. \"\"\"\n",
    "movies_df[movies_df.index.isin(movies_missing_tmdbIds.index)]"
   ]
  },
  {
   "cell_type": "code",
   "execution_count": null,
   "id": "eec2967d-40a1-4976-9369-4c28e727998b",
   "metadata": {},
   "outputs": [],
   "source": [
    "\"\"\" The eight movies have been removed. \"\"\"\n",
    "movies_df = movies_df[~movies_df.index.isin(movies_missing_tmdbIds.index)]\n",
    "movies_df.shape"
   ]
  },
  {
   "cell_type": "code",
   "execution_count": null,
   "id": "f7e75001-efd3-4ca3-850b-8f4c65c678c5",
   "metadata": {},
   "outputs": [],
   "source": [
    "### ratings.csv"
   ]
  },
  {
   "cell_type": "code",
   "execution_count": null,
   "id": "92f56dfa-7922-4fa0-87ce-2e1c2a792ce3",
   "metadata": {},
   "outputs": [],
   "source": [
    "ratings_df = pd.read_csv('../data/ml-latest-small/ratings.csv')\n",
    "ratings_df.head()"
   ]
  },
  {
   "cell_type": "code",
   "execution_count": null,
   "id": "02b2fe6d-4d2e-432c-8834-0cde29f0d0be",
   "metadata": {},
   "outputs": [],
   "source": [
    "ratings_df.shape"
   ]
  },
  {
   "cell_type": "code",
   "execution_count": null,
   "id": "ef21424b-ebfd-4ed8-a565-1707d11d451e",
   "metadata": {},
   "outputs": [],
   "source": [
    "\"\"\"\n",
    "Let's just double check how much data we're dropping.\n",
    "-> No big deal. These 8 movies have only been rated once or twice anyway.\n",
    "\"\"\"\n",
    "ratings_df[ratings_df.movieId.isin(movies_missing_tmdbIds.movieId)]"
   ]
  },
  {
   "cell_type": "code",
   "execution_count": null,
   "id": "c0275f76-a577-4b8e-9e3f-fbba815ee228",
   "metadata": {},
   "outputs": [],
   "source": [
    "\"\"\" Remove the movies. \"\"\"\n",
    "ratings_df = ratings_df[~ratings_df.movieId.isin(movies_missing_tmdbIds.movieId)]\n",
    "ratings_df.shape"
   ]
  },
  {
   "cell_type": "code",
   "execution_count": null,
   "id": "4b8e560c-8cf4-42ba-9992-f1a6273f51fe",
   "metadata": {},
   "outputs": [],
   "source": [
    "### tags.csv"
   ]
  },
  {
   "cell_type": "code",
   "execution_count": null,
   "id": "636eaced-bfa1-47f5-9b03-b7397acc5192",
   "metadata": {},
   "outputs": [],
   "source": [
    "tags_df = pd.read_csv('../data/ml-latest-small/tags.csv')\n",
    "tags_df.head()"
   ]
  },
  {
   "cell_type": "code",
   "execution_count": null,
   "id": "a4691c14-f477-451c-9ddb-57dc3871bbc8",
   "metadata": {},
   "outputs": [],
   "source": [
    "tags_df.shape"
   ]
  },
  {
   "cell_type": "code",
   "execution_count": null,
   "id": "6193b128-0889-417c-ab69-55cfaf695dc1",
   "metadata": {},
   "outputs": [],
   "source": [
    "\"\"\" Remove the movies. \"\"\"\n",
    "tags_df = tags_df[~tags_df.movieId.isin(movies_missing_tmdbIds.movieId)]\n",
    "tags_df.shape"
   ]
  },
  {
   "cell_type": "code",
   "execution_count": null,
   "id": "4f9904b0-3ba5-46cd-8f3b-ebe170c958b5",
   "metadata": {},
   "outputs": [],
   "source": [
    "### links.csv"
   ]
  },
  {
   "cell_type": "code",
   "execution_count": null,
   "id": "fb1befc3-6c67-497f-ae89-b3dc2f7d0952",
   "metadata": {},
   "outputs": [],
   "source": [
    "print(f\"Num links before: {links_df.shape[0]}\")\n",
    "links_df = links_df[~links_df.movieId.isin(movies_missing_tmdbIds.movieId)]\n",
    "print(f\"Num links after: {links_df.shape[0]}\")"
   ]
  },
  {
   "cell_type": "code",
   "execution_count": null,
   "id": "2568d61b-60b3-4e98-9730-4bba7b004175",
   "metadata": {},
   "outputs": [],
   "source": [
    "## Overwrite the CSVs"
   ]
  },
  {
   "cell_type": "code",
   "execution_count": null,
   "id": "e3c03f2a-bdf9-4548-9aa6-b25c4665646f",
   "metadata": {},
   "outputs": [],
   "source": [
    "movies_df.to_csv('../data/ml-latest-small/movies.csv', index=False)\n",
    "ratings_df.to_csv('../data/ml-latest-small/ratings.csv', index=False)\n",
    "tags_df.to_csv('../data/ml-latest-small/tags.csv', index=False)\n",
    "links_df.to_csv('../data/ml-latest-small/links.csv', index=False)"
   ]
  },
  {
   "cell_type": "code",
   "execution_count": null,
   "id": "5eea3ad5-7eff-420d-a69d-a0af634e5da1",
   "metadata": {},
   "outputs": [],
   "source": [
    "## Reload the data and check the size"
   ]
  },
  {
   "cell_type": "code",
   "execution_count": null,
   "id": "c698bcd7-846d-42f1-a778-1d0b64b51bc2",
   "metadata": {},
   "outputs": [],
   "source": [
    "movies_df = pd.read_csv('../data/ml-latest-small/movies.csv')\n",
    "ratings_df = pd.read_csv('../data/ml-latest-small/ratings.csv')\n",
    "tags_df = pd.read_csv('../data/ml-latest-small/tags.csv')\n",
    "links_df = pd.read_csv(\n",
    "    '../data/ml-latest-small/links.csv', \n",
    "    usecols=['movieId', 'imdbId', 'tmdbId'],\n",
    "    dtype={'movieId': int, 'imdbId': str, 'tmdbId': str}\n",
    ")\n",
    "\n",
    "print(f\"movies_df shape: {movies_df.shape}\")\n",
    "print(f\"ratings_df shape: {ratings_df.shape}\")\n",
    "print(f\"tags_df shape: {tags_df.shape}\")\n",
    "print(f\"links_df shape: {links_df.shape}\")\n",
    "\n",
    "links_df.head()"
   ]
  },
  {
   "cell_type": "code",
   "execution_count": null,
   "id": "b730e01c-cd56-418d-a659-8818acc35659",
   "metadata": {},
   "outputs": [],
   "source": []
  }
 ],
 "metadata": {
  "kernelspec": {
   "display_name": "Python 3 (ipykernel)",
   "language": "python",
   "name": "python3"
  },
  "language_info": {
   "codemirror_mode": {
    "name": "ipython",
    "version": 3
   },
   "file_extension": ".py",
   "mimetype": "text/x-python",
   "name": "python",
   "nbconvert_exporter": "python",
   "pygments_lexer": "ipython3",
   "version": "3.12.7"
  }
 },
 "nbformat": 4,
 "nbformat_minor": 5
}
