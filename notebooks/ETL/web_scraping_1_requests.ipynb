{
 "cells": [
  {
   "cell_type": "code",
   "execution_count": 1,
   "id": "a225a9c4-d2a1-482c-89ed-eb75d7ab72b6",
   "metadata": {},
   "outputs": [],
   "source": [
    "import os\n",
    "import requests\n",
    "import zipfile\n",
    "import pandas as pd\n",
    "import numpy as np\n",
    "from bs4 import BeautifulSoup\n",
    "from pprint import pprint as pp"
   ]
  },
  {
   "cell_type": "markdown",
   "id": "59f2b914-b3d3-4e50-b670-f55de0ae97c4",
   "metadata": {},
   "source": [
    "## Data import"
   ]
  },
  {
   "cell_type": "code",
   "execution_count": 4,
   "id": "af5f3503-8317-4eeb-8a2a-8227f9ef652e",
   "metadata": {},
   "outputs": [
    {
     "data": {
      "text/html": [
       "<div>\n",
       "<style scoped>\n",
       "    .dataframe tbody tr th:only-of-type {\n",
       "        vertical-align: middle;\n",
       "    }\n",
       "\n",
       "    .dataframe tbody tr th {\n",
       "        vertical-align: top;\n",
       "    }\n",
       "\n",
       "    .dataframe thead th {\n",
       "        text-align: right;\n",
       "    }\n",
       "</style>\n",
       "<table border=\"1\" class=\"dataframe\">\n",
       "  <thead>\n",
       "    <tr style=\"text-align: right;\">\n",
       "      <th></th>\n",
       "      <th>movieId</th>\n",
       "      <th>imdbId</th>\n",
       "      <th>tmdbId</th>\n",
       "    </tr>\n",
       "  </thead>\n",
       "  <tbody>\n",
       "    <tr>\n",
       "      <th>0</th>\n",
       "      <td>1</td>\n",
       "      <td>0114709</td>\n",
       "      <td>862</td>\n",
       "    </tr>\n",
       "  </tbody>\n",
       "</table>\n",
       "</div>"
      ],
      "text/plain": [
       "   movieId   imdbId tmdbId\n",
       "0        1  0114709    862"
      ]
     },
     "execution_count": 4,
     "metadata": {},
     "output_type": "execute_result"
    }
   ],
   "source": [
    "links_df = pd.read_csv(\n",
    "    '../data/ml-latest-small/links.csv', \n",
    "    usecols=['movieId', 'imdbId', 'tmdbId'],\n",
    "    dtype={'movieId': int, 'imdbId': str, 'tmdbId': str}\n",
    ")\n",
    "links_df.head(1)"
   ]
  },
  {
   "cell_type": "markdown",
   "id": "94781105-1ff5-42f5-a548-765aeeeb2059",
   "metadata": {},
   "source": [
    "# Scrape metadata\n",
    "## Check links\n",
    "Check the different websites we have movie IDs for"
   ]
  },
  {
   "cell_type": "markdown",
   "id": "541a6ae3-5385-415f-99e2-f8fad3de7ad3",
   "metadata": {},
   "source": [
    "### IMDB"
   ]
  },
  {
   "cell_type": "code",
   "execution_count": null,
   "id": "907f5501-9dba-44a3-859d-bfaa8d871b31",
   "metadata": {},
   "outputs": [],
   "source": [
    "\"\"\" IMDB doesn't allow webscraping. \"\"\"\n",
    "\n",
    "imdbid = '0114709'\n",
    "\n",
    "url = f\"https://www.imdb.com/title/tt{imdbid}/\"\n",
    "response = requests.get(url)\n",
    "\n",
    "soup_imdb = BeautifulSoup(response.content, 'html.parser')"
   ]
  },
  {
   "cell_type": "code",
   "execution_count": null,
   "id": "14c54a69-4f8b-4464-852d-3de2341d702d",
   "metadata": {},
   "outputs": [],
   "source": [
    "print(soup_imdb.prettify)"
   ]
  },
  {
   "cell_type": "markdown",
   "id": "310fc463-28a6-4617-a3c1-95870414ba2b",
   "metadata": {},
   "source": [
    "<div class=\"alert alert-danger\">\n",
    "    <strong>IMDB doesn't allow web-scraping</strong>\n",
    "</div>"
   ]
  },
  {
   "cell_type": "markdown",
   "id": "8288ae24-b3ac-4369-a783-e135fe0cc2a1",
   "metadata": {},
   "source": [
    "### movielens.org"
   ]
  },
  {
   "cell_type": "code",
   "execution_count": null,
   "id": "f0e1c20e-be99-4f28-803e-e0bcfdbdf753",
   "metadata": {},
   "outputs": [],
   "source": [
    "movieId = 1\n",
    "url = f\"https://movielens.org/movies/{str(movieId)}/\"\n",
    "response = requests.get(url)\n",
    "\n",
    "soup_movie_lens = BeautifulSoup(response.content, 'html.parser')\n",
    "print(soup_movie_lens.prettify)"
   ]
  },
  {
   "cell_type": "markdown",
   "id": "258ee362-7dfd-45c8-b1dc-731b21c93be8",
   "metadata": {},
   "source": [
    "<div class=\"alert alert-info\">\n",
    "    <strong>This works but the information on the page is not actually as useful as that shown on themoviedb.org</strong>\n",
    "</div>"
   ]
  },
  {
   "cell_type": "markdown",
   "id": "861656fd-8c93-46a8-9896-5f2bdc9223f5",
   "metadata": {},
   "source": [
    "### themoviedb.org"
   ]
  },
  {
   "cell_type": "code",
   "execution_count": null,
   "id": "92c8b907-948f-451a-8c83-9b4262b58b26",
   "metadata": {},
   "outputs": [],
   "source": [
    "tmdbId = '862'\n",
    "\n",
    "url = f\"https://www.themoviedb.org/movie/{?}/\"\n",
    "response = requests.get(url)\n",
    "\n",
    "soup = BeautifulSoup(response.content, 'html.parser')\n",
    "print(soup.prettify)"
   ]
  },
  {
   "cell_type": "markdown",
   "id": "56468b92-ca73-43f9-a465-575e5906addd",
   "metadata": {},
   "source": [
    "<div class=\"alert alert-success\">\n",
    "    <strong>\n",
    "        themoviedb.org turned out to be the best option. \n",
    "    </strong>\n",
    "    <br>\n",
    "    It has a list of Directors, Screenwriters, etc as well as well as a short list of top-billed actors, rather than an extensive list of every single actor in the movie.\n",
    "    \n",
    "</div>\n",
    "\n"
   ]
  },
  {
   "cell_type": "markdown",
   "id": "2e5be76e-fe94-44b0-bb77-f85150559f05",
   "metadata": {},
   "source": [
    "## web-scraping from themoviedb.org\n",
    "\n",
    "To improve our recommendations it would be beneficial to train a similarity model on the people associated with the movies.\n",
    "The themoviedb.org page for each movie contains information on the people involved in the production of the movies under tags such as \"Screenplay\", \"Story\", \"Director\" and \"Characters\", as well as a list of top-billed actors.\n",
    "The tags are not consistent across all movies. For example, \"Characters\" usually has a value such as \"Stan Lee\", who created the characters but was not involved in producing the movies. Many movies do not have this tag at all.\n",
    "Stan Lee is obviously a very relevant name to associate with a movie though, as people who like one Marvel movie will tend to like other Marvel movies.\n",
    "\n",
    "It is may not be necessary to save the roles of the people. Clint Eastwood is both an actor and a director and his fans will probably be consistent across both roles.\n",
    "Then again, Jordan Peele was a comedy actor and the movies he has directed are most definitely not comedies (Get Out).\n",
    "We are going to be using this data for Matrix Factorization which is a technique for reducing dimensionality and finding latent features. In layman's terms this means finding groups of similar things which often go together, such as Quentin Tarantino or Wes Anderson often using the same actors.\n",
    "\n",
    "Movies with the same actor will probably have a weaker connection than movies with the same director. Brad Pitt has been in two Tarantino movies but he was also Thelma & Louise. All Tarantino movies have a similar style but actors might star in movies from totally different genres.\n",
    "\n",
    "So let's leave in the jobs (feature engineering). It will make our dataset bigger and sparser but its not a huge dataset anyway so we should be fine."
   ]
  },
  {
   "cell_type": "markdown",
   "id": "48bd83d2-2d80-4272-b2f9-fb8843e69b0d",
   "metadata": {},
   "source": [
    "### Find cast & crew in HTML"
   ]
  },
  {
   "cell_type": "code",
   "execution_count": null,
   "id": "187d44d3-a0aa-4954-b84e-7c78264761b7",
   "metadata": {},
   "outputs": [],
   "source": [
    "\"\"\" \n",
    "To figure out where the relevant information is in the big mess of html that is the soup, we inspect the actual webpage in the browser using DevTools, and find the elements we are after. \n",
    "\n",
    "For example, we can find John Lasseter's name and job in the html code below.\n",
    "\n",
    "<li class=\"profile\">\n",
    "<p><a href=\"/person/7879-john-lasseter\">John Lasseter</a></p>\n",
    "<p class=\"character\">Director, Story</p>\n",
    "</li>\n",
    "\n",
    "\"\"\"\n",
    "\n",
    "creator_list = soup.find('ol', class_='people no_image')\n",
    "\n",
    "if creator_list:\n",
    "    profiles = creator_list.find_all('li', class_='profile')\n",
    "    for person in profiles:\n",
    "        name = person.find('a').text\n",
    "        jobs = person.find('p', class_='character').text\n",
    "        \n",
    "        jobs = jobs.split(',') if ',' in jobs else [jobs]\n",
    "        jobs = [r.strip() for r in jobs] \n",
    "    \n",
    "        for job in jobs:\n",
    "            print(f\"{name} ({job})\")\n",
    "else:\n",
    "    print(f\"Creator list not found for movie {movieId}\")\n",
    "\n",
    "actor_list = soup.find('ol', class_='people scroller')\n",
    "\n",
    "if actor_list:\n",
    "    actors = actor_list.find_all('li', class_='card') \n",
    "    for actor in actors:\n",
    "        name_tag = actor.find('img', alt=True)\n",
    "        actor_name = name_tag['alt'] if name_tag else \"Unknown\"\n",
    "        \n",
    "        print(f\"{actor_name} (Actor)\")\n",
    "else:\n",
    "    print(f\"Actor list not found for movie {movieId}\")"
   ]
  },
  {
   "cell_type": "markdown",
   "id": "b706b2c6-bbae-4185-9e56-ae904ab3a873",
   "metadata": {},
   "source": [
    "### Find poster link in HTML"
   ]
  },
  {
   "cell_type": "code",
   "execution_count": null,
   "id": "b5416c94-dc3d-47d4-ae1f-c74043e66fa8",
   "metadata": {},
   "outputs": [],
   "source": [
    "# Locate the <img> tag with the class 'poster'\n",
    "poster_img_tag = soup.find('img', class_='poster w-full')\n",
    "\n",
    "# Extract the 'src' attribute, which contains the poster link\n",
    "if poster_img_tag:\n",
    "    poster_link = poster_img_tag.get('src')\n",
    "    print(f\"Poster Link: {poster_link}\")\n",
    "else:\n",
    "    print(\"Poster not found.\")"
   ]
  },
  {
   "cell_type": "markdown",
   "id": "f928efef-0221-47f9-ab7f-2fa3546793ef",
   "metadata": {},
   "source": [
    "### Scrape the data"
   ]
  },
  {
   "cell_type": "code",
   "execution_count": null,
   "id": "b0dfc9db-fdd8-4dbb-b957-8ef33247c465",
   "metadata": {},
   "outputs": [],
   "source": [
    "class tmdbWebScraper:\n",
    "    def __init__(self):\n",
    "        self.\n",
    "\n",
    "def _scrape_movie_metadata_from_tmdb(movie_row):\n",
    "    movie_id = movie_row.movieId\n",
    "    tmdb_id = movie_row.tmdbId\n",
    "    \n",
    "    url = f\"https://www.themoviedb.org/movie/{tmdb_id}/\"\n",
    "    response = requests.get(url)    \n",
    "    soup = BeautifulSoup(response.content, 'html.parser')\n",
    "\n",
    "    people = []\n",
    "\n",
    "    crew_list = soup.find('ol', class_='people no_image')\n",
    "    if crew_list:\n",
    "        crew = crew_list.find_all('li', class_='profile')\n",
    "        for person in crew:\n",
    "            name = person.find('a').text\n",
    "            jobs = person.find('p', class_='character').text\n",
    "            jobs = [job.strip() for job in jobs.split(',')]\n",
    "            for job in jobs:\n",
    "                people.append((movie_id, name, job))\n",
    "\n",
    "    cast_list = soup.find('ol', class_='people scroller')\n",
    "    if cast_list:\n",
    "        cast = cast_list.find_all('li', class_='card')\n",
    "        for actor in cast:\n",
    "            name_tag = actor.find('img', alt=True)\n",
    "            actor_name = name_tag['alt'] if name_tag else \"Unknown\"\n",
    "            people.append((movie_id, actor_name, 'Actor'))\n",
    "    \n",
    "    poster_img_tag = soup.find('img', class_='poster w-full')\n",
    "    if poster_img_tag:\n",
    "        poster_link = (movie_id, poster_img_tag.get('src'))\n",
    "    else:\n",
    "        print(f\"Poster not found for movieId: {movie_id}.\")\n",
    "        poster_link = None\n",
    "\n",
    "    return people, poster_link\n",
    "\n",
    "def aggregate_movie_cast_and_crew(links_df):\n",
    "\n",
    "    print(\"Beginning movie cast & crew data aggregation.\")\n",
    "    \n",
    "    num_links = links_df.shape[0]\n",
    "    i = 0\n",
    "    \n",
    "    movie_people = []\n",
    "    poster_links = []\n",
    "    \n",
    "    for index, movie_row in links_df.iterrows():\n",
    "    \n",
    "        movie_cast_and_crew, poster_link = _scrape_movie_metadata_from_tmdb(movie_row)\n",
    "\n",
    "        movie_people.extend(movie_cast_and_crew)\n",
    "        if poster_link:\n",
    "            poster_links.append(poster_link)\n",
    "     \n",
    "        percent_completed = i/num_links*100\n",
    "        if percent_completed % 5 == 0 and percent_completed > 0:\n",
    "            print(f\"{percent_completed}% completed\")\n",
    "        i+= 1\n",
    "\n",
    "    print(\"Data aggregation complete.\")\n",
    "\n",
    "    movie_people_df = pd.DataFrame(movie_people, columns=['movieId', 'name', 'role'])\n",
    "    poster_links_df = pd.DataFrame(poster_links, columns=['movieId', 'poster_link'])\n",
    "    \n",
    "    \n",
    "\n",
    "    return movie_people_df, poster_links_df\n",
    "\n",
    "def save_aggregated_data(df, movie_dir_path, filename):\n",
    "    df.to_csv(movie_dir_path+filename, index=False)\n",
    "    print(f\"Data saved to {movie_dir_path} dir\")"
   ]
  },
  {
   "cell_type": "code",
   "execution_count": null,
   "id": "05612e48-e521-42dc-af9d-aaf3daefc610",
   "metadata": {},
   "outputs": [],
   "source": [
    "movie_dir_path = '../data/ml-latest-small/'\n",
    "\n",
    "movie_people_df, poster_links_df = aggregate_movie_cast_and_crew(links_df)\n",
    "save_aggregated_data(movie_people_df, movie_dir_path, filename='movie_cast_and_crew.csv')\n",
    "save_aggregated_data(poster_links_df, movie_dir_path, filename='poster_links.csv')"
   ]
  },
  {
   "cell_type": "markdown",
   "id": "8c5e2792-0ec9-44d6-b991-43e4af9aeaba",
   "metadata": {},
   "source": [
    "## Result: Failure - The IP gets blocked after ~300 requests"
   ]
  },
  {
   "cell_type": "code",
   "execution_count": null,
   "id": "c88ba87f-fd5d-4e6e-9761-7998364b7eb6",
   "metadata": {},
   "outputs": [],
   "source": []
  }
 ],
 "metadata": {
  "kernelspec": {
   "display_name": "Python 3 (ipykernel)",
   "language": "python",
   "name": "python3"
  },
  "language_info": {
   "codemirror_mode": {
    "name": "ipython",
    "version": 3
   },
   "file_extension": ".py",
   "mimetype": "text/x-python",
   "name": "python",
   "nbconvert_exporter": "python",
   "pygments_lexer": "ipython3",
   "version": "3.12.7"
  }
 },
 "nbformat": 4,
 "nbformat_minor": 5
}
