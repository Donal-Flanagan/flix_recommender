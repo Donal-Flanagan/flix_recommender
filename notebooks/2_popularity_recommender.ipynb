{
 "cells": [
  {
   "cell_type": "code",
   "execution_count": 5,
   "id": "7fe6e98e-442f-46e0-b91c-018a59a4b7e7",
   "metadata": {},
   "outputs": [],
   "source": [
    "import pandas as pd\n",
    "import numpy as np\n",
    "import matplotlib.pyplot as plt\n",
    "\n",
    "data_path = 'data/ml-latest-small/'"
   ]
  },
  {
   "cell_type": "markdown",
   "id": "210cbeb5-ee55-4163-8792-2b7c24911100",
   "metadata": {},
   "source": [
    "# Data import"
   ]
  },
  {
   "cell_type": "code",
   "execution_count": 6,
   "id": "dc4564a3-6355-47b0-80ca-305b8bf08b11",
   "metadata": {},
   "outputs": [
    {
     "data": {
      "text/html": [
       "<div>\n",
       "<style scoped>\n",
       "    .dataframe tbody tr th:only-of-type {\n",
       "        vertical-align: middle;\n",
       "    }\n",
       "\n",
       "    .dataframe tbody tr th {\n",
       "        vertical-align: top;\n",
       "    }\n",
       "\n",
       "    .dataframe thead th {\n",
       "        text-align: right;\n",
       "    }\n",
       "</style>\n",
       "<table border=\"1\" class=\"dataframe\">\n",
       "  <thead>\n",
       "    <tr style=\"text-align: right;\">\n",
       "      <th></th>\n",
       "      <th>movieId</th>\n",
       "      <th>title</th>\n",
       "      <th>genres</th>\n",
       "    </tr>\n",
       "  </thead>\n",
       "  <tbody>\n",
       "    <tr>\n",
       "      <th>0</th>\n",
       "      <td>1</td>\n",
       "      <td>Toy Story (1995)</td>\n",
       "      <td>Adventure|Animation|Children|Comedy|Fantasy</td>\n",
       "    </tr>\n",
       "    <tr>\n",
       "      <th>1</th>\n",
       "      <td>2</td>\n",
       "      <td>Jumanji (1995)</td>\n",
       "      <td>Adventure|Children|Fantasy</td>\n",
       "    </tr>\n",
       "    <tr>\n",
       "      <th>2</th>\n",
       "      <td>3</td>\n",
       "      <td>Grumpier Old Men (1995)</td>\n",
       "      <td>Comedy|Romance</td>\n",
       "    </tr>\n",
       "    <tr>\n",
       "      <th>3</th>\n",
       "      <td>4</td>\n",
       "      <td>Waiting to Exhale (1995)</td>\n",
       "      <td>Comedy|Drama|Romance</td>\n",
       "    </tr>\n",
       "    <tr>\n",
       "      <th>4</th>\n",
       "      <td>5</td>\n",
       "      <td>Father of the Bride Part II (1995)</td>\n",
       "      <td>Comedy</td>\n",
       "    </tr>\n",
       "  </tbody>\n",
       "</table>\n",
       "</div>"
      ],
      "text/plain": [
       "   movieId                               title  \\\n",
       "0        1                    Toy Story (1995)   \n",
       "1        2                      Jumanji (1995)   \n",
       "2        3             Grumpier Old Men (1995)   \n",
       "3        4            Waiting to Exhale (1995)   \n",
       "4        5  Father of the Bride Part II (1995)   \n",
       "\n",
       "                                        genres  \n",
       "0  Adventure|Animation|Children|Comedy|Fantasy  \n",
       "1                   Adventure|Children|Fantasy  \n",
       "2                               Comedy|Romance  \n",
       "3                         Comedy|Drama|Romance  \n",
       "4                                       Comedy  "
      ]
     },
     "execution_count": 6,
     "metadata": {},
     "output_type": "execute_result"
    }
   ],
   "source": [
    "movies = pd.read_csv(data_path+'movies.csv')\n",
    "movies.head()"
   ]
  },
  {
   "cell_type": "code",
   "execution_count": 7,
   "id": "1fee9d44-8b0a-4f1e-9d38-52cd95271576",
   "metadata": {},
   "outputs": [
    {
     "data": {
      "text/html": [
       "<div>\n",
       "<style scoped>\n",
       "    .dataframe tbody tr th:only-of-type {\n",
       "        vertical-align: middle;\n",
       "    }\n",
       "\n",
       "    .dataframe tbody tr th {\n",
       "        vertical-align: top;\n",
       "    }\n",
       "\n",
       "    .dataframe thead th {\n",
       "        text-align: right;\n",
       "    }\n",
       "</style>\n",
       "<table border=\"1\" class=\"dataframe\">\n",
       "  <thead>\n",
       "    <tr style=\"text-align: right;\">\n",
       "      <th></th>\n",
       "      <th>userId</th>\n",
       "      <th>movieId</th>\n",
       "      <th>rating</th>\n",
       "      <th>timestamp</th>\n",
       "    </tr>\n",
       "  </thead>\n",
       "  <tbody>\n",
       "    <tr>\n",
       "      <th>0</th>\n",
       "      <td>1</td>\n",
       "      <td>1</td>\n",
       "      <td>4.0</td>\n",
       "      <td>964982703</td>\n",
       "    </tr>\n",
       "    <tr>\n",
       "      <th>1</th>\n",
       "      <td>1</td>\n",
       "      <td>3</td>\n",
       "      <td>4.0</td>\n",
       "      <td>964981247</td>\n",
       "    </tr>\n",
       "    <tr>\n",
       "      <th>2</th>\n",
       "      <td>1</td>\n",
       "      <td>6</td>\n",
       "      <td>4.0</td>\n",
       "      <td>964982224</td>\n",
       "    </tr>\n",
       "    <tr>\n",
       "      <th>3</th>\n",
       "      <td>1</td>\n",
       "      <td>47</td>\n",
       "      <td>5.0</td>\n",
       "      <td>964983815</td>\n",
       "    </tr>\n",
       "    <tr>\n",
       "      <th>4</th>\n",
       "      <td>1</td>\n",
       "      <td>50</td>\n",
       "      <td>5.0</td>\n",
       "      <td>964982931</td>\n",
       "    </tr>\n",
       "  </tbody>\n",
       "</table>\n",
       "</div>"
      ],
      "text/plain": [
       "   userId  movieId  rating  timestamp\n",
       "0       1        1     4.0  964982703\n",
       "1       1        3     4.0  964981247\n",
       "2       1        6     4.0  964982224\n",
       "3       1       47     5.0  964983815\n",
       "4       1       50     5.0  964982931"
      ]
     },
     "execution_count": 7,
     "metadata": {},
     "output_type": "execute_result"
    }
   ],
   "source": [
    "ratings = pd.read_csv(data_path+'ratings.csv')\n",
    "ratings.head()"
   ]
  },
  {
   "cell_type": "markdown",
   "id": "66fa6c11-3e0b-4e33-97c2-2f940e0e2c86",
   "metadata": {},
   "source": [
    "Let's have a look at the distribution of the rating values"
   ]
  },
  {
   "cell_type": "code",
   "execution_count": 8,
   "id": "1420e227-32fb-49bd-83a6-9821814ff9c3",
   "metadata": {},
   "outputs": [
    {
     "data": {
      "text/plain": [
       "rating\n",
       "4.0    0.265971\n",
       "3.0    0.198804\n",
       "5.0    0.131012\n",
       "3.5    0.130268\n",
       "4.5    0.084812\n",
       "2.0    0.074884\n",
       "2.5    0.055047\n",
       "1.0    0.027881\n",
       "1.5    0.017764\n",
       "0.5    0.013558\n",
       "Name: proportion, dtype: float64"
      ]
     },
     "execution_count": 8,
     "metadata": {},
     "output_type": "execute_result"
    }
   ],
   "source": [
    "ratings.rating.value_counts(normalize=True)"
   ]
  },
  {
   "cell_type": "markdown",
   "id": "5da05c0c-12f3-4011-8d06-28903b2f2329",
   "metadata": {},
   "source": [
    "Now we look at the most popular movies by average rating"
   ]
  },
  {
   "cell_type": "markdown",
   "id": "4b252113-02a7-4d07-a760-63892293dcf6",
   "metadata": {},
   "source": [
    "# Popularity recommender"
   ]
  },
  {
   "cell_type": "code",
   "execution_count": 9,
   "id": "1340036e-de40-47db-a5f6-7c001ae92a2d",
   "metadata": {},
   "outputs": [
    {
     "data": {
      "text/html": [
       "<div>\n",
       "<style scoped>\n",
       "    .dataframe tbody tr th:only-of-type {\n",
       "        vertical-align: middle;\n",
       "    }\n",
       "\n",
       "    .dataframe tbody tr th {\n",
       "        vertical-align: top;\n",
       "    }\n",
       "\n",
       "    .dataframe thead th {\n",
       "        text-align: right;\n",
       "    }\n",
       "</style>\n",
       "<table border=\"1\" class=\"dataframe\">\n",
       "  <thead>\n",
       "    <tr style=\"text-align: right;\">\n",
       "      <th></th>\n",
       "      <th>movieId</th>\n",
       "      <th>mean</th>\n",
       "      <th>count</th>\n",
       "    </tr>\n",
       "  </thead>\n",
       "  <tbody>\n",
       "    <tr>\n",
       "      <th>48</th>\n",
       "      <td>53</td>\n",
       "      <td>5.0</td>\n",
       "      <td>2</td>\n",
       "    </tr>\n",
       "    <tr>\n",
       "      <th>87</th>\n",
       "      <td>99</td>\n",
       "      <td>5.0</td>\n",
       "      <td>2</td>\n",
       "    </tr>\n",
       "    <tr>\n",
       "      <th>867</th>\n",
       "      <td>1151</td>\n",
       "      <td>5.0</td>\n",
       "      <td>2</td>\n",
       "    </tr>\n",
       "    <tr>\n",
       "      <th>2590</th>\n",
       "      <td>3473</td>\n",
       "      <td>5.0</td>\n",
       "      <td>2</td>\n",
       "    </tr>\n",
       "    <tr>\n",
       "      <th>4380</th>\n",
       "      <td>6442</td>\n",
       "      <td>5.0</td>\n",
       "      <td>2</td>\n",
       "    </tr>\n",
       "  </tbody>\n",
       "</table>\n",
       "</div>"
      ],
      "text/plain": [
       "      movieId  mean  count\n",
       "48         53   5.0      2\n",
       "87         99   5.0      2\n",
       "867      1151   5.0      2\n",
       "2590     3473   5.0      2\n",
       "4380     6442   5.0      2"
      ]
     },
     "execution_count": 9,
     "metadata": {},
     "output_type": "execute_result"
    }
   ],
   "source": [
    "# Group by movieId, extract the ratings, then aggregate the mean rating and the count of ratings per movie\n",
    "rating_count_df = ratings.groupby('movieId')['rating'].agg(['mean', 'count']).reset_index()\n",
    "# Get the 5 movies with the highest average rating\n",
    "rating_count_df.nlargest(5, ['mean', 'count'])"
   ]
  },
  {
   "cell_type": "markdown",
   "id": "537648ee-7841-4041-bc2d-fb2aec774713",
   "metadata": {},
   "source": [
    "We see that these movies have received 5 starts but obviously two ratings is not a popular enough movie to give us a reliable answer so let's switch the parameters."
   ]
  },
  {
   "cell_type": "code",
   "execution_count": 10,
   "id": "2e30bc76-6b92-43ff-8532-1039545af8c6",
   "metadata": {},
   "outputs": [
    {
     "data": {
      "text/html": [
       "<div>\n",
       "<style scoped>\n",
       "    .dataframe tbody tr th:only-of-type {\n",
       "        vertical-align: middle;\n",
       "    }\n",
       "\n",
       "    .dataframe tbody tr th {\n",
       "        vertical-align: top;\n",
       "    }\n",
       "\n",
       "    .dataframe thead th {\n",
       "        text-align: right;\n",
       "    }\n",
       "</style>\n",
       "<table border=\"1\" class=\"dataframe\">\n",
       "  <thead>\n",
       "    <tr style=\"text-align: right;\">\n",
       "      <th></th>\n",
       "      <th>movieId</th>\n",
       "      <th>mean</th>\n",
       "      <th>count</th>\n",
       "    </tr>\n",
       "  </thead>\n",
       "  <tbody>\n",
       "    <tr>\n",
       "      <th>314</th>\n",
       "      <td>356</td>\n",
       "      <td>4.164134</td>\n",
       "      <td>329</td>\n",
       "    </tr>\n",
       "    <tr>\n",
       "      <th>277</th>\n",
       "      <td>318</td>\n",
       "      <td>4.429022</td>\n",
       "      <td>317</td>\n",
       "    </tr>\n",
       "    <tr>\n",
       "      <th>257</th>\n",
       "      <td>296</td>\n",
       "      <td>4.197068</td>\n",
       "      <td>307</td>\n",
       "    </tr>\n",
       "    <tr>\n",
       "      <th>510</th>\n",
       "      <td>593</td>\n",
       "      <td>4.161290</td>\n",
       "      <td>279</td>\n",
       "    </tr>\n",
       "    <tr>\n",
       "      <th>1936</th>\n",
       "      <td>2571</td>\n",
       "      <td>4.192446</td>\n",
       "      <td>278</td>\n",
       "    </tr>\n",
       "  </tbody>\n",
       "</table>\n",
       "</div>"
      ],
      "text/plain": [
       "      movieId      mean  count\n",
       "314       356  4.164134    329\n",
       "277       318  4.429022    317\n",
       "257       296  4.197068    307\n",
       "510       593  4.161290    279\n",
       "1936     2571  4.192446    278"
      ]
     },
     "execution_count": 10,
     "metadata": {},
     "output_type": "execute_result"
    }
   ],
   "source": [
    "# Sort the movies by number of ratings and then mean rating.\n",
    "rating_count_df.nlargest(5, ['count', 'mean'])"
   ]
  },
  {
   "cell_type": "markdown",
   "id": "2a3bbedf-d1b6-4247-99fd-c070562eb91f",
   "metadata": {},
   "source": [
    "Now let's use the Bayesian average to weight the ratings of the movies against the number of ratings per movies"
   ]
  },
  {
   "cell_type": "markdown",
   "id": "5858b5bf-07db-4a0d-a2db-99234345acee",
   "metadata": {},
   "source": [
    "### Bayesian Average\n",
    "\n",
    "$$\n",
    "\\text{Bayesian Average} = \\frac{(C \\cdot M) + (N \\cdot R)}{C + N}\n",
    "$$\n",
    "\n",
    "$R$: The average rating of the item (e.g., movie).\n",
    "\n",
    "$N$: The number of ratings for the item.\n",
    "\n",
    "$M$: The mean rating across all items (the prior).\n",
    "\n",
    "$C$: A constant representing the \"weight\" of the prior (e.g., how much influence the global average has).\n",
    "\n",
    "If N is small (few ratings) then the Bayesian Average will go closer to the global average M - If only two people rate a movie and they both give it 5 stars, it may actually suck so we should lower the rating towards the average.\n",
    "If N is big (many ratings) then the movies actual average rating has more influence.\n",
    "\n",
    "Big C gives more weight to the global average so it reduces the influence of small sample sizes.\n",
    "Small C allows the actual average values of the items to have more influence."
   ]
  },
  {
   "cell_type": "code",
   "execution_count": 11,
   "id": "f45318e8-eb50-4f70-8bc6-90b5a766a1af",
   "metadata": {},
   "outputs": [
    {
     "data": {
      "text/html": [
       "<div>\n",
       "<style scoped>\n",
       "    .dataframe tbody tr th:only-of-type {\n",
       "        vertical-align: middle;\n",
       "    }\n",
       "\n",
       "    .dataframe tbody tr th {\n",
       "        vertical-align: top;\n",
       "    }\n",
       "\n",
       "    .dataframe thead th {\n",
       "        text-align: right;\n",
       "    }\n",
       "</style>\n",
       "<table border=\"1\" class=\"dataframe\">\n",
       "  <thead>\n",
       "    <tr style=\"text-align: right;\">\n",
       "      <th></th>\n",
       "      <th>movieId</th>\n",
       "      <th>mean</th>\n",
       "      <th>count</th>\n",
       "      <th>weighted_rating</th>\n",
       "      <th>title</th>\n",
       "    </tr>\n",
       "  </thead>\n",
       "  <tbody>\n",
       "    <tr>\n",
       "      <th>0</th>\n",
       "      <td>318</td>\n",
       "      <td>4.429022</td>\n",
       "      <td>317</td>\n",
       "      <td>4.403419</td>\n",
       "      <td>Shawshank Redemption, The (1994)</td>\n",
       "    </tr>\n",
       "    <tr>\n",
       "      <th>1</th>\n",
       "      <td>858</td>\n",
       "      <td>4.289062</td>\n",
       "      <td>192</td>\n",
       "      <td>4.253805</td>\n",
       "      <td>Godfather, The (1972)</td>\n",
       "    </tr>\n",
       "    <tr>\n",
       "      <th>2</th>\n",
       "      <td>2959</td>\n",
       "      <td>4.272936</td>\n",
       "      <td>218</td>\n",
       "      <td>4.242356</td>\n",
       "      <td>Fight Club (1999)</td>\n",
       "    </tr>\n",
       "    <tr>\n",
       "      <th>3</th>\n",
       "      <td>1221</td>\n",
       "      <td>4.259690</td>\n",
       "      <td>129</td>\n",
       "      <td>4.210252</td>\n",
       "      <td>Godfather: Part II, The (1974)</td>\n",
       "    </tr>\n",
       "    <tr>\n",
       "      <th>4</th>\n",
       "      <td>50</td>\n",
       "      <td>4.237745</td>\n",
       "      <td>204</td>\n",
       "      <td>4.206642</td>\n",
       "      <td>Usual Suspects, The (1995)</td>\n",
       "    </tr>\n",
       "  </tbody>\n",
       "</table>\n",
       "</div>"
      ],
      "text/plain": [
       "   movieId      mean  count  weighted_rating                             title\n",
       "0      318  4.429022    317         4.403419  Shawshank Redemption, The (1994)\n",
       "1      858  4.289062    192         4.253805             Godfather, The (1972)\n",
       "2     2959  4.272936    218         4.242356                 Fight Club (1999)\n",
       "3     1221  4.259690    129         4.210252    Godfather: Part II, The (1974)\n",
       "4       50  4.237745    204         4.206642        Usual Suspects, The (1995)"
      ]
     },
     "execution_count": 11,
     "metadata": {},
     "output_type": "execute_result"
    }
   ],
   "source": [
    "\"\"\"\n",
    "M = global_mean_rating\n",
    "C = threshold_rating\n",
    "R = qualified_movies['mean']\n",
    "N = qualified_movies['count']\n",
    "\n",
    "We will choose the 75th percentile of the ratings count threshold for the minimum number of ratings required.\n",
    "75% percentile = 75% of the movies have less this amount of ratings.\n",
    "So a movie must be in the top 25% of rated movies for its average rating to significantly override the global average.\n",
    "\"\"\"\n",
    "\n",
    "def recommend_popular_movies(n, movies, ratings):\n",
    "    \n",
    "    global_mean_rating = ratings['rating'].mean()\n",
    "    rating_count_df = ratings.groupby('movieId')['rating'].agg(['mean', 'count']).reset_index()\n",
    "    threshold_rating = rating_count_df['count'].quantile(0.75)\n",
    "    \n",
    "    # Calculate the Bayesian average weighted rating\n",
    "    rating_count_df['weighted_rating'] = (\n",
    "        (rating_count_df['count'] * rating_count_df['mean'] + threshold_rating * global_mean_rating) /\n",
    "        (rating_count_df['count'] + threshold_rating)\n",
    "    )\n",
    "\n",
    "    # Step 5: Sort movies by the weighted rating\n",
    "    top_movies = rating_count_df.sort_values(by='weighted_rating', ascending=False)\n",
    "\n",
    "    return top_movies.head(n)\n",
    "\n",
    "popular_movies = recommend_popular_movies(5, movies, ratings)\n",
    "\n",
    "# Add the titles\n",
    "popular_movies = popular_movies.merge(movies[['movieId', 'title']], on='movieId', how='left')\n",
    "popular_movies"
   ]
  },
  {
   "cell_type": "code",
   "execution_count": null,
   "id": "0daf7286-1ce0-4a2c-bf41-c143e29a2544",
   "metadata": {},
   "outputs": [],
   "source": []
  }
 ],
 "metadata": {
  "kernelspec": {
   "display_name": "Python 3 (ipykernel)",
   "language": "python",
   "name": "python3"
  },
  "language_info": {
   "codemirror_mode": {
    "name": "ipython",
    "version": 3
   },
   "file_extension": ".py",
   "mimetype": "text/x-python",
   "name": "python",
   "nbconvert_exporter": "python",
   "pygments_lexer": "ipython3",
   "version": "3.12.7"
  }
 },
 "nbformat": 4,
 "nbformat_minor": 5
}
